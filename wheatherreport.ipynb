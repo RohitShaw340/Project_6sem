{
 "cells": [
  {
   "cell_type": "code",
   "execution_count": 27,
   "metadata": {},
   "outputs": [],
   "source": [
    "import pandas as pd\n",
    "import numpy as np"
   ]
  },
  {
   "cell_type": "code",
   "execution_count": 28,
   "metadata": {},
   "outputs": [
    {
     "name": "stderr",
     "output_type": "stream",
     "text": [
      "C:\\Users\\rohit\\AppData\\Local\\Temp\\ipykernel_16396\\1638491283.py:1: FutureWarning: The error_bad_lines argument has been deprecated and will be removed in a future version. Use on_bad_lines in the future.\n",
      "\n",
      "\n",
      "  main=pd.read_csv(\"weatherHistory.csv\",engine=\"python\",error_bad_lines=False)\n"
     ]
    },
    {
     "name": "stdout",
     "output_type": "stream",
     "text": [
      "(96453, 12)\n"
     ]
    }
   ],
   "source": [
    "main=pd.read_csv(\"weatherHistory.csv\",engine=\"python\",error_bad_lines=False)\n",
    "print(main.shape)\n",
    "data=main.copy()"
   ]
  },
  {
   "cell_type": "code",
   "execution_count": 29,
   "metadata": {},
   "outputs": [
    {
     "name": "stdout",
     "output_type": "stream",
     "text": [
      "(95936, 8)\n"
     ]
    }
   ],
   "source": [
    "data =data.dropna()\n",
    "data.drop([\"Formatted Date\",\"Daily Summary\",\"Summary\",\"Loud Cover\"],axis=1,inplace=True)\n",
    "print(data.shape)"
   ]
  },
  {
   "cell_type": "code",
   "execution_count": 30,
   "metadata": {},
   "outputs": [
    {
     "name": "stderr",
     "output_type": "stream",
     "text": [
      "C:\\Users\\rohit\\AppData\\Local\\Temp\\ipykernel_16396\\2536031948.py:1: SettingWithCopyWarning: \n",
      "A value is trying to be set on a copy of a slice from a DataFrame\n",
      "\n",
      "See the caveats in the documentation: https://pandas.pydata.org/pandas-docs/stable/user_guide/indexing.html#returning-a-view-versus-a-copy\n",
      "  data[\"Precip Type\"][data[\"Precip Type\"]==\"rain\"]=1\n",
      "C:\\Users\\rohit\\AppData\\Local\\Temp\\ipykernel_16396\\2536031948.py:2: SettingWithCopyWarning: \n",
      "A value is trying to be set on a copy of a slice from a DataFrame\n",
      "\n",
      "See the caveats in the documentation: https://pandas.pydata.org/pandas-docs/stable/user_guide/indexing.html#returning-a-view-versus-a-copy\n",
      "  data[\"Precip Type\"][data[\"Precip Type\"]==\"snow\"]=0\n"
     ]
    },
    {
     "data": {
      "text/plain": [
       "array([1, 0], dtype=object)"
      ]
     },
     "execution_count": 30,
     "metadata": {},
     "output_type": "execute_result"
    }
   ],
   "source": [
    "data[\"Precip Type\"][data[\"Precip Type\"]==\"rain\"]=1\n",
    "data[\"Precip Type\"][data[\"Precip Type\"]==\"snow\"]=0\n",
    "data[\"Precip Type\"].unique()"
   ]
  },
  {
   "cell_type": "code",
   "execution_count": 31,
   "metadata": {},
   "outputs": [
    {
     "name": "stdout",
     "output_type": "stream",
     "text": [
      "  Precip Type  Temperature (C)  Apparent Temperature (C)  Humidity  \\\n",
      "0           1         9.472222                  7.388889      0.89   \n",
      "1           1         9.355556                  7.227778      0.86   \n",
      "2           1         9.377778                  9.377778      0.89   \n",
      "3           1         8.288889                  5.944444      0.83   \n",
      "4           1         8.755556                  6.977778      0.83   \n",
      "\n",
      "   Wind Speed (km/h)  Wind Bearing (degrees)  Visibility (km)  \\\n",
      "0            14.1197                   251.0          15.8263   \n",
      "1            14.2646                   259.0          15.8263   \n",
      "2             3.9284                   204.0          14.9569   \n",
      "3            14.1036                   269.0          15.8263   \n",
      "4            11.0446                   259.0          15.8263   \n",
      "\n",
      "   Pressure (millibars)  \n",
      "0               1015.13  \n",
      "1               1015.63  \n",
      "2               1015.94  \n",
      "3               1016.41  \n",
      "4               1016.51  \n",
      "   Temperature (C)  Apparent Temperature (C)  Humidity  Wind Speed (km/h)  \\\n",
      "0         9.472222                  7.388889      0.89            14.1197   \n",
      "1         9.355556                  7.227778      0.86            14.2646   \n",
      "2         9.377778                  9.377778      0.89             3.9284   \n",
      "3         8.288889                  5.944444      0.83            14.1036   \n",
      "4         8.755556                  6.977778      0.83            11.0446   \n",
      "\n",
      "   Wind Bearing (degrees)  Visibility (km)  Pressure (millibars)  \n",
      "0                   251.0          15.8263               1015.13  \n",
      "1                   259.0          15.8263               1015.63  \n",
      "2                   204.0          14.9569               1015.94  \n",
      "3                   269.0          15.8263               1016.41  \n",
      "4                   259.0          15.8263               1016.51  \n"
     ]
    }
   ],
   "source": [
    "from sklearn.model_selection import train_test_split # class to split data \n",
    "\n",
    "data_copy=data.copy()\n",
    "print(data.head())\n",
    "\n",
    "\n",
    "Y =data[\"Precip Type\"]\n",
    "X=data.drop([\"Precip Type\"],axis=1)\n",
    "print(X.head())\n",
    "\n",
    "\n",
    "X_train, X_test, y_train, y_test = train_test_split(X, Y,test_size=0.2)"
   ]
  },
  {
   "cell_type": "code",
   "execution_count": 32,
   "metadata": {},
   "outputs": [
    {
     "name": "stdout",
     "output_type": "stream",
     "text": [
      "(76748, 1)\n",
      "(19188, 1)\n",
      "(76748,)\n",
      "(19188,)\n"
     ]
    }
   ],
   "source": [
    "from sklearn.preprocessing import MinMaxScaler\n",
    "\n",
    "scale = MinMaxScaler()\n",
    " # reshape because of minmax take column and scale\n",
    "scale.fit(X_train['Temperature (C)'].values.reshape(-1,1))\n",
    "X_train_temp = scale.transform(X_train['Temperature (C)'].values.reshape(-1,1))\n",
    "X_test_temp = scale.transform(X_test['Temperature (C)'].values.reshape(-1,1))\n",
    "print(X_train_temp.shape)\n",
    "print(X_test_temp.shape)\n",
    "print(y_train.shape)\n",
    "print(y_test.shape)"
   ]
  },
  {
   "cell_type": "code",
   "execution_count": 33,
   "metadata": {},
   "outputs": [
    {
     "name": "stdout",
     "output_type": "stream",
     "text": [
      "(76748, 1)\n",
      "(19188, 1)\n",
      "(76748,)\n",
      "(19188,)\n"
     ]
    }
   ],
   "source": [
    "scale = MinMaxScaler()\n",
    " # reshape because of minmax take column and scale\n",
    "scale.fit(X_train['Apparent Temperature (C)'].values.reshape(-1,1))\n",
    "X_train_atemp = scale.transform(X_train['Apparent Temperature (C)'].values.reshape(-1,1))\n",
    "X_test_atemp = scale.transform(X_test['Apparent Temperature (C)'].values.reshape(-1,1))\n",
    "print(X_train_atemp.shape)\n",
    "print(X_test_atemp.shape)\n",
    "print(y_train.shape)\n",
    "print(y_test.shape)"
   ]
  },
  {
   "cell_type": "code",
   "execution_count": 34,
   "metadata": {},
   "outputs": [
    {
     "name": "stdout",
     "output_type": "stream",
     "text": [
      "(76748, 1)\n",
      "(19188, 1)\n",
      "(76748,)\n",
      "(19188,)\n"
     ]
    }
   ],
   "source": [
    "scale = MinMaxScaler()\n",
    " # reshape because of minmax take column and scale\n",
    "scale.fit(X_train['Humidity'].values.reshape(-1,1))\n",
    "X_train_humid = scale.transform(X_train['Humidity'].values.reshape(-1,1))\n",
    "X_test_humid = scale.transform(X_test['Humidity'].values.reshape(-1,1))\n",
    "print(X_train_humid.shape)\n",
    "print(X_test_humid.shape)\n",
    "print(y_train.shape)\n",
    "print(y_test.shape)"
   ]
  },
  {
   "cell_type": "code",
   "execution_count": 35,
   "metadata": {},
   "outputs": [
    {
     "name": "stdout",
     "output_type": "stream",
     "text": [
      "(76748, 1)\n",
      "(19188, 1)\n",
      "(76748,)\n",
      "(19188,)\n"
     ]
    }
   ],
   "source": [
    "scale = MinMaxScaler()\n",
    " # reshape because of minmax take column and scale\n",
    "scale.fit(X_train['Wind Speed (km/h)'].values.reshape(-1,1))\n",
    "X_train_wind = scale.transform(X_train['Wind Speed (km/h)'].values.reshape(-1,1))\n",
    "X_test_wind = scale.transform(X_test['Wind Speed (km/h)'].values.reshape(-1,1))\n",
    "print(X_train_wind.shape)\n",
    "print(X_test_wind.shape)\n",
    "print(y_train.shape)\n",
    "print(y_test.shape)"
   ]
  },
  {
   "cell_type": "code",
   "execution_count": 36,
   "metadata": {},
   "outputs": [
    {
     "name": "stdout",
     "output_type": "stream",
     "text": [
      "(76748, 1)\n",
      "(19188, 1)\n",
      "(76748,)\n",
      "(19188,)\n"
     ]
    }
   ],
   "source": [
    "scale = MinMaxScaler()\n",
    " # reshape because of minmax take column and scale\n",
    "scale.fit(X_train['Wind Bearing (degrees)'].values.reshape(-1,1))\n",
    "X_train_bwind = scale.transform(X_train['Wind Bearing (degrees)'].values.reshape(-1,1))\n",
    "X_test_bwind = scale.transform(X_test['Wind Bearing (degrees)'].values.reshape(-1,1))\n",
    "print(X_train_bwind.shape)\n",
    "print(X_test_bwind.shape)\n",
    "print(y_train.shape)\n",
    "print(y_test.shape)"
   ]
  },
  {
   "cell_type": "code",
   "execution_count": 37,
   "metadata": {},
   "outputs": [
    {
     "name": "stdout",
     "output_type": "stream",
     "text": [
      "(76748, 1)\n",
      "(19188, 1)\n",
      "(76748,)\n",
      "(19188,)\n"
     ]
    }
   ],
   "source": [
    "scale = MinMaxScaler()\n",
    " # reshape because of minmax take column and scale\n",
    "scale.fit(X_train['Visibility (km)'].values.reshape(-1,1))\n",
    "X_train_visi = scale.transform(X_train['Visibility (km)'].values.reshape(-1,1))\n",
    "X_test_visi = scale.transform(X_test['Visibility (km)'].values.reshape(-1,1))\n",
    "print(X_train_visi.shape)\n",
    "print(X_test_visi.shape)\n",
    "print(y_train.shape)\n",
    "print(y_test.shape)"
   ]
  },
  {
   "cell_type": "code",
   "execution_count": 38,
   "metadata": {},
   "outputs": [
    {
     "name": "stdout",
     "output_type": "stream",
     "text": [
      "(76748, 1)\n",
      "(19188, 1)\n",
      "(76748,)\n",
      "(19188,)\n"
     ]
    }
   ],
   "source": [
    "scale = MinMaxScaler()\n",
    " # reshape because of minmax take column and scale\n",
    "scale.fit(X_train['Pressure (millibars)'].values.reshape(-1,1))\n",
    "X_train_pres = scale.transform(X_train['Pressure (millibars)'].values.reshape(-1,1))\n",
    "X_test_pres = scale.transform(X_test['Pressure (millibars)'].values.reshape(-1,1))\n",
    "print(X_train_pres.shape)\n",
    "print(X_test_pres.shape)\n",
    "print(y_train.shape)\n",
    "print(y_test.shape)"
   ]
  },
  {
   "cell_type": "code",
   "execution_count": 40,
   "metadata": {},
   "outputs": [
    {
     "name": "stdout",
     "output_type": "stream",
     "text": [
      "(76748, 7)\n",
      "(19188, 7)\n",
      "(76748,)\n",
      "(19188,)\n"
     ]
    }
   ],
   "source": [
    "from scipy.sparse import hstack\n",
    "import scipy.sparse as sp\n",
    "\n",
    "train = hstack((sp.csr_matrix(X_train_temp),X_train_atemp,X_train_humid,X_train_wind,X_train_bwind,X_train_visi,X_train_pres)).tocsr()\n",
    "test = hstack((sp.csr_matrix(X_test_temp),X_test_atemp,X_test_humid,X_test_wind,X_test_bwind,X_test_visi,X_test_pres)).tocsr()\n",
    "\n",
    "\n",
    "train= train.astype(np.float64)\n",
    "test= test.astype(np.float64)\n",
    "train=train.toarray()\n",
    "test=test.toarray()\n",
    "y_train=y_train.astype(np.float64)\n",
    "y_test=y_test.astype(np.float64)\n",
    "\n",
    "print(train.shape)\n",
    "print(test.shape)\n",
    "print(y_train.shape)\n",
    "print(y_test.shape)"
   ]
  },
  {
   "cell_type": "code",
   "execution_count": null,
   "metadata": {},
   "outputs": [],
   "source": []
  },
  {
   "cell_type": "code",
   "execution_count": null,
   "metadata": {},
   "outputs": [],
   "source": []
  },
  {
   "cell_type": "code",
   "execution_count": null,
   "metadata": {},
   "outputs": [],
   "source": []
  },
  {
   "cell_type": "code",
   "execution_count": null,
   "metadata": {},
   "outputs": [],
   "source": []
  },
  {
   "cell_type": "code",
   "execution_count": null,
   "metadata": {},
   "outputs": [],
   "source": []
  },
  {
   "cell_type": "code",
   "execution_count": null,
   "metadata": {},
   "outputs": [],
   "source": []
  },
  {
   "cell_type": "code",
   "execution_count": 41,
   "metadata": {},
   "outputs": [],
   "source": [
    "import keras as k\n",
    "from keras.models import Sequential\n",
    "from keras.layers import Activation\n",
    "from keras.layers.core import Dense\n",
    "from keras.optimizers import Adam\n",
    "from keras.metrics import categorical_crossentropy\n",
    "import numpy as np"
   ]
  },
  {
   "cell_type": "code",
   "execution_count": 42,
   "metadata": {},
   "outputs": [],
   "source": [
    "model=Sequential([\n",
    "    Dense(16,input_shape=(7,),activation='relu'),\n",
    "    Dense(32,activation='relu',use_bias=True),\n",
    "    Dense(2,activation='softmax')\n",
    "])\n"
   ]
  },
  {
   "cell_type": "code",
   "execution_count": 43,
   "metadata": {},
   "outputs": [],
   "source": [
    "model.compile(optimizer='adam',loss='sparse_categorical_crossentropy',metrics=['accuracy'])"
   ]
  },
  {
   "cell_type": "code",
   "execution_count": 44,
   "metadata": {},
   "outputs": [
    {
     "name": "stdout",
     "output_type": "stream",
     "text": [
      "Epoch 1/100\n",
      "2399/2399 - 2s - loss: 0.0990 - accuracy: 0.9608 - 2s/epoch - 1ms/step\n",
      "Epoch 2/100\n",
      "2399/2399 - 2s - loss: 0.0314 - accuracy: 0.9873 - 2s/epoch - 877us/step\n",
      "Epoch 3/100\n",
      "2399/2399 - 2s - loss: 0.0261 - accuracy: 0.9888 - 2s/epoch - 874us/step\n",
      "Epoch 4/100\n",
      "2399/2399 - 2s - loss: 0.0236 - accuracy: 0.9896 - 2s/epoch - 834us/step\n",
      "Epoch 5/100\n",
      "2399/2399 - 2s - loss: 0.0219 - accuracy: 0.9899 - 2s/epoch - 924us/step\n",
      "Epoch 6/100\n",
      "2399/2399 - 2s - loss: 0.0213 - accuracy: 0.9901 - 2s/epoch - 894us/step\n",
      "Epoch 7/100\n",
      "2399/2399 - 2s - loss: 0.0207 - accuracy: 0.9900 - 2s/epoch - 944us/step\n",
      "Epoch 8/100\n",
      "2399/2399 - 2s - loss: 0.0201 - accuracy: 0.9906 - 2s/epoch - 938us/step\n",
      "Epoch 9/100\n",
      "2399/2399 - 2s - loss: 0.0197 - accuracy: 0.9906 - 2s/epoch - 915us/step\n",
      "Epoch 10/100\n",
      "2399/2399 - 2s - loss: 0.0195 - accuracy: 0.9905 - 2s/epoch - 901us/step\n",
      "Epoch 11/100\n",
      "2399/2399 - 2s - loss: 0.0198 - accuracy: 0.9905 - 2s/epoch - 907us/step\n",
      "Epoch 12/100\n",
      "2399/2399 - 2s - loss: 0.0195 - accuracy: 0.9904 - 2s/epoch - 989us/step\n",
      "Epoch 13/100\n",
      "2399/2399 - 2s - loss: 0.0193 - accuracy: 0.9909 - 2s/epoch - 977us/step\n",
      "Epoch 14/100\n",
      "2399/2399 - 2s - loss: 0.0183 - accuracy: 0.9908 - 2s/epoch - 887us/step\n",
      "Epoch 15/100\n",
      "2399/2399 - 2s - loss: 0.0186 - accuracy: 0.9914 - 2s/epoch - 874us/step\n",
      "Epoch 16/100\n",
      "2399/2399 - 2s - loss: 0.0192 - accuracy: 0.9910 - 2s/epoch - 885us/step\n",
      "Epoch 17/100\n",
      "2399/2399 - 2s - loss: 0.0189 - accuracy: 0.9907 - 2s/epoch - 924us/step\n",
      "Epoch 18/100\n",
      "2399/2399 - 2s - loss: 0.0185 - accuracy: 0.9912 - 2s/epoch - 1ms/step\n",
      "Epoch 19/100\n",
      "2399/2399 - 3s - loss: 0.0189 - accuracy: 0.9910 - 3s/epoch - 1ms/step\n",
      "Epoch 20/100\n",
      "2399/2399 - 2s - loss: 0.0186 - accuracy: 0.9916 - 2s/epoch - 1ms/step\n",
      "Epoch 21/100\n",
      "2399/2399 - 2s - loss: 0.0184 - accuracy: 0.9910 - 2s/epoch - 908us/step\n",
      "Epoch 22/100\n",
      "2399/2399 - 2s - loss: 0.0182 - accuracy: 0.9909 - 2s/epoch - 857us/step\n",
      "Epoch 23/100\n",
      "2399/2399 - 2s - loss: 0.0178 - accuracy: 0.9916 - 2s/epoch - 961us/step\n",
      "Epoch 24/100\n",
      "2399/2399 - 2s - loss: 0.0181 - accuracy: 0.9913 - 2s/epoch - 1ms/step\n",
      "Epoch 25/100\n",
      "2399/2399 - 3s - loss: 0.0177 - accuracy: 0.9914 - 3s/epoch - 1ms/step\n",
      "Epoch 26/100\n",
      "2399/2399 - 2s - loss: 0.0188 - accuracy: 0.9910 - 2s/epoch - 905us/step\n",
      "Epoch 27/100\n",
      "2399/2399 - 2s - loss: 0.0178 - accuracy: 0.9916 - 2s/epoch - 852us/step\n",
      "Epoch 28/100\n",
      "2399/2399 - 2s - loss: 0.0182 - accuracy: 0.9913 - 2s/epoch - 927us/step\n",
      "Epoch 29/100\n",
      "2399/2399 - 2s - loss: 0.0183 - accuracy: 0.9913 - 2s/epoch - 936us/step\n",
      "Epoch 30/100\n",
      "2399/2399 - 2s - loss: 0.0172 - accuracy: 0.9915 - 2s/epoch - 904us/step\n",
      "Epoch 31/100\n",
      "2399/2399 - 2s - loss: 0.0181 - accuracy: 0.9914 - 2s/epoch - 982us/step\n",
      "Epoch 32/100\n",
      "2399/2399 - 2s - loss: 0.0176 - accuracy: 0.9915 - 2s/epoch - 924us/step\n",
      "Epoch 33/100\n",
      "2399/2399 - 2s - loss: 0.0175 - accuracy: 0.9916 - 2s/epoch - 978us/step\n",
      "Epoch 34/100\n",
      "2399/2399 - 2s - loss: 0.0175 - accuracy: 0.9914 - 2s/epoch - 962us/step\n",
      "Epoch 35/100\n",
      "2399/2399 - 3s - loss: 0.0176 - accuracy: 0.9915 - 3s/epoch - 1ms/step\n",
      "Epoch 36/100\n",
      "2399/2399 - 2s - loss: 0.0179 - accuracy: 0.9913 - 2s/epoch - 1ms/step\n",
      "Epoch 37/100\n",
      "2399/2399 - 2s - loss: 0.0174 - accuracy: 0.9916 - 2s/epoch - 892us/step\n",
      "Epoch 38/100\n",
      "2399/2399 - 3s - loss: 0.0171 - accuracy: 0.9917 - 3s/epoch - 1ms/step\n",
      "Epoch 39/100\n",
      "2399/2399 - 2s - loss: 0.0174 - accuracy: 0.9916 - 2s/epoch - 1ms/step\n",
      "Epoch 40/100\n",
      "2399/2399 - 3s - loss: 0.0176 - accuracy: 0.9913 - 3s/epoch - 1ms/step\n",
      "Epoch 41/100\n",
      "2399/2399 - 2s - loss: 0.0169 - accuracy: 0.9916 - 2s/epoch - 932us/step\n",
      "Epoch 42/100\n",
      "2399/2399 - 3s - loss: 0.0172 - accuracy: 0.9918 - 3s/epoch - 1ms/step\n",
      "Epoch 43/100\n",
      "2399/2399 - 2s - loss: 0.0174 - accuracy: 0.9917 - 2s/epoch - 1ms/step\n",
      "Epoch 44/100\n",
      "2399/2399 - 2s - loss: 0.0170 - accuracy: 0.9918 - 2s/epoch - 976us/step\n",
      "Epoch 45/100\n",
      "2399/2399 - 2s - loss: 0.0168 - accuracy: 0.9922 - 2s/epoch - 932us/step\n",
      "Epoch 46/100\n",
      "2399/2399 - 2s - loss: 0.0171 - accuracy: 0.9920 - 2s/epoch - 902us/step\n",
      "Epoch 47/100\n",
      "2399/2399 - 2s - loss: 0.0167 - accuracy: 0.9920 - 2s/epoch - 931us/step\n",
      "Epoch 48/100\n",
      "2399/2399 - 2s - loss: 0.0171 - accuracy: 0.9918 - 2s/epoch - 1ms/step\n",
      "Epoch 49/100\n",
      "2399/2399 - 2s - loss: 0.0168 - accuracy: 0.9918 - 2s/epoch - 1ms/step\n",
      "Epoch 50/100\n",
      "2399/2399 - 3s - loss: 0.0173 - accuracy: 0.9917 - 3s/epoch - 1ms/step\n",
      "Epoch 51/100\n",
      "2399/2399 - 3s - loss: 0.0160 - accuracy: 0.9922 - 3s/epoch - 1ms/step\n",
      "Epoch 52/100\n",
      "2399/2399 - 2s - loss: 0.0163 - accuracy: 0.9922 - 2s/epoch - 1ms/step\n",
      "Epoch 53/100\n",
      "2399/2399 - 3s - loss: 0.0172 - accuracy: 0.9915 - 3s/epoch - 1ms/step\n",
      "Epoch 54/100\n",
      "2399/2399 - 2s - loss: 0.0163 - accuracy: 0.9924 - 2s/epoch - 920us/step\n",
      "Epoch 55/100\n",
      "2399/2399 - 2s - loss: 0.0175 - accuracy: 0.9917 - 2s/epoch - 983us/step\n",
      "Epoch 56/100\n",
      "2399/2399 - 2s - loss: 0.0168 - accuracy: 0.9920 - 2s/epoch - 980us/step\n",
      "Epoch 57/100\n",
      "2399/2399 - 2s - loss: 0.0162 - accuracy: 0.9921 - 2s/epoch - 953us/step\n",
      "Epoch 58/100\n",
      "2399/2399 - 3s - loss: 0.0169 - accuracy: 0.9917 - 3s/epoch - 1ms/step\n",
      "Epoch 59/100\n",
      "2399/2399 - 2s - loss: 0.0165 - accuracy: 0.9922 - 2s/epoch - 978us/step\n",
      "Epoch 60/100\n",
      "2399/2399 - 2s - loss: 0.0162 - accuracy: 0.9923 - 2s/epoch - 962us/step\n",
      "Epoch 61/100\n",
      "2399/2399 - 2s - loss: 0.0160 - accuracy: 0.9926 - 2s/epoch - 930us/step\n",
      "Epoch 62/100\n",
      "2399/2399 - 2s - loss: 0.0164 - accuracy: 0.9920 - 2s/epoch - 984us/step\n",
      "Epoch 63/100\n",
      "2399/2399 - 2s - loss: 0.0163 - accuracy: 0.9922 - 2s/epoch - 884us/step\n",
      "Epoch 64/100\n",
      "2399/2399 - 2s - loss: 0.0161 - accuracy: 0.9921 - 2s/epoch - 890us/step\n",
      "Epoch 65/100\n",
      "2399/2399 - 2s - loss: 0.0163 - accuracy: 0.9919 - 2s/epoch - 847us/step\n",
      "Epoch 66/100\n",
      "2399/2399 - 2s - loss: 0.0164 - accuracy: 0.9918 - 2s/epoch - 935us/step\n",
      "Epoch 67/100\n",
      "2399/2399 - 2s - loss: 0.0158 - accuracy: 0.9927 - 2s/epoch - 914us/step\n",
      "Epoch 68/100\n",
      "2399/2399 - 2s - loss: 0.0161 - accuracy: 0.9922 - 2s/epoch - 894us/step\n",
      "Epoch 69/100\n",
      "2399/2399 - 2s - loss: 0.0162 - accuracy: 0.9922 - 2s/epoch - 871us/step\n",
      "Epoch 70/100\n",
      "2399/2399 - 2s - loss: 0.0155 - accuracy: 0.9926 - 2s/epoch - 928us/step\n",
      "Epoch 71/100\n",
      "2399/2399 - 4s - loss: 0.0161 - accuracy: 0.9921 - 4s/epoch - 1ms/step\n",
      "Epoch 72/100\n",
      "2399/2399 - 3s - loss: 0.0157 - accuracy: 0.9925 - 3s/epoch - 1ms/step\n",
      "Epoch 73/100\n",
      "2399/2399 - 3s - loss: 0.0164 - accuracy: 0.9920 - 3s/epoch - 1ms/step\n",
      "Epoch 74/100\n",
      "2399/2399 - 3s - loss: 0.0158 - accuracy: 0.9926 - 3s/epoch - 1ms/step\n",
      "Epoch 75/100\n",
      "2399/2399 - 3s - loss: 0.0163 - accuracy: 0.9921 - 3s/epoch - 1ms/step\n",
      "Epoch 76/100\n",
      "2399/2399 - 2s - loss: 0.0161 - accuracy: 0.9920 - 2s/epoch - 1000us/step\n",
      "Epoch 77/100\n",
      "2399/2399 - 3s - loss: 0.0159 - accuracy: 0.9922 - 3s/epoch - 1ms/step\n",
      "Epoch 78/100\n",
      "2399/2399 - 3s - loss: 0.0164 - accuracy: 0.9920 - 3s/epoch - 1ms/step\n",
      "Epoch 79/100\n",
      "2399/2399 - 2s - loss: 0.0155 - accuracy: 0.9925 - 2s/epoch - 1ms/step\n",
      "Epoch 80/100\n",
      "2399/2399 - 2s - loss: 0.0157 - accuracy: 0.9926 - 2s/epoch - 950us/step\n",
      "Epoch 81/100\n",
      "2399/2399 - 3s - loss: 0.0158 - accuracy: 0.9922 - 3s/epoch - 1ms/step\n",
      "Epoch 82/100\n",
      "2399/2399 - 3s - loss: 0.0160 - accuracy: 0.9925 - 3s/epoch - 1ms/step\n",
      "Epoch 83/100\n",
      "2399/2399 - 2s - loss: 0.0155 - accuracy: 0.9928 - 2s/epoch - 974us/step\n",
      "Epoch 84/100\n",
      "2399/2399 - 2s - loss: 0.0162 - accuracy: 0.9923 - 2s/epoch - 922us/step\n",
      "Epoch 85/100\n",
      "2399/2399 - 2s - loss: 0.0152 - accuracy: 0.9929 - 2s/epoch - 985us/step\n",
      "Epoch 86/100\n",
      "2399/2399 - 3s - loss: 0.0155 - accuracy: 0.9926 - 3s/epoch - 1ms/step\n",
      "Epoch 87/100\n",
      "2399/2399 - 2s - loss: 0.0154 - accuracy: 0.9927 - 2s/epoch - 1ms/step\n",
      "Epoch 88/100\n",
      "2399/2399 - 2s - loss: 0.0150 - accuracy: 0.9926 - 2s/epoch - 916us/step\n",
      "Epoch 89/100\n",
      "2399/2399 - 2s - loss: 0.0151 - accuracy: 0.9926 - 2s/epoch - 1ms/step\n",
      "Epoch 90/100\n",
      "2399/2399 - 3s - loss: 0.0154 - accuracy: 0.9927 - 3s/epoch - 1ms/step\n",
      "Epoch 91/100\n",
      "2399/2399 - 3s - loss: 0.0152 - accuracy: 0.9926 - 3s/epoch - 1ms/step\n",
      "Epoch 92/100\n",
      "2399/2399 - 2s - loss: 0.0154 - accuracy: 0.9927 - 2s/epoch - 970us/step\n",
      "Epoch 93/100\n",
      "2399/2399 - 3s - loss: 0.0151 - accuracy: 0.9928 - 3s/epoch - 1ms/step\n",
      "Epoch 94/100\n",
      "2399/2399 - 4s - loss: 0.0152 - accuracy: 0.9928 - 4s/epoch - 1ms/step\n",
      "Epoch 95/100\n",
      "2399/2399 - 3s - loss: 0.0151 - accuracy: 0.9926 - 3s/epoch - 1ms/step\n",
      "Epoch 96/100\n",
      "2399/2399 - 3s - loss: 0.0157 - accuracy: 0.9926 - 3s/epoch - 1ms/step\n",
      "Epoch 97/100\n",
      "2399/2399 - 3s - loss: 0.0155 - accuracy: 0.9924 - 3s/epoch - 1ms/step\n",
      "Epoch 98/100\n",
      "2399/2399 - 3s - loss: 0.0156 - accuracy: 0.9922 - 3s/epoch - 1ms/step\n",
      "Epoch 99/100\n",
      "2399/2399 - 3s - loss: 0.0153 - accuracy: 0.9927 - 3s/epoch - 1ms/step\n",
      "Epoch 100/100\n",
      "2399/2399 - 3s - loss: 0.0149 - accuracy: 0.9929 - 3s/epoch - 1ms/step\n"
     ]
    }
   ],
   "source": [
    "history=model.fit(x=train,y=y_train,epochs=100,shuffle='True',verbose=2)"
   ]
  },
  {
   "cell_type": "code",
   "execution_count": 45,
   "metadata": {},
   "outputs": [
    {
     "name": "stdout",
     "output_type": "stream",
     "text": [
      "1919/1919 [==============================] - 3s 2ms/step - loss: 10003.7695 - accuracy: 0.1225\n",
      "test loss, test acc: [10003.76953125, 0.12252449244260788]\n"
     ]
    }
   ],
   "source": [
    "results = model.evaluate(X_test, y_test, batch_size=10)\n",
    "print('test loss, test acc:', results)"
   ]
  },
  {
   "cell_type": "code",
   "execution_count": 46,
   "metadata": {},
   "outputs": [
    {
     "name": "stdout",
     "output_type": "stream",
     "text": [
      "600/600 [==============================] - 1s 1ms/step\n"
     ]
    }
   ],
   "source": [
    "predictions = model.predict(X_test)"
   ]
  },
  {
   "cell_type": "code",
   "execution_count": null,
   "metadata": {},
   "outputs": [],
   "source": []
  },
  {
   "cell_type": "code",
   "execution_count": null,
   "metadata": {},
   "outputs": [],
   "source": []
  },
  {
   "cell_type": "code",
   "execution_count": 47,
   "metadata": {},
   "outputs": [],
   "source": [
    "from keras.layers import Dropout\n",
    "from keras.layers import BatchNormalization\n",
    "\n",
    "modeld = Sequential()\n",
    "modeld.add(Dropout(0.2, input_shape=(7,)))\n",
    "modeld.add(Dense(16, activation='relu'))\n",
    "modeld.add(Dropout(0.2))\n",
    "modeld.add(BatchNormalization())\n",
    "modeld.add(Dense(32, activation='relu'))\n",
    "modeld.add(Dense(2, activation='softmax'))"
   ]
  },
  {
   "cell_type": "code",
   "execution_count": 48,
   "metadata": {},
   "outputs": [],
   "source": [
    "modeld.compile(optimizer='adam',loss='sparse_categorical_crossentropy',metrics=['accuracy'])"
   ]
  },
  {
   "cell_type": "code",
   "execution_count": 49,
   "metadata": {},
   "outputs": [
    {
     "name": "stdout",
     "output_type": "stream",
     "text": [
      "Epoch 1/100\n"
     ]
    },
    {
     "name": "stdout",
     "output_type": "stream",
     "text": [
      "2399/2399 - 4s - loss: 0.2028 - accuracy: 0.9115 - 4s/epoch - 2ms/step\n",
      "Epoch 2/100\n",
      "2399/2399 - 3s - loss: 0.1321 - accuracy: 0.9367 - 3s/epoch - 1ms/step\n",
      "Epoch 3/100\n",
      "2399/2399 - 4s - loss: 0.1247 - accuracy: 0.9409 - 4s/epoch - 2ms/step\n",
      "Epoch 4/100\n",
      "2399/2399 - 3s - loss: 0.1117 - accuracy: 0.9490 - 3s/epoch - 1ms/step\n",
      "Epoch 5/100\n",
      "2399/2399 - 3s - loss: 0.1031 - accuracy: 0.9563 - 3s/epoch - 1ms/step\n",
      "Epoch 6/100\n",
      "2399/2399 - 4s - loss: 0.0965 - accuracy: 0.9601 - 4s/epoch - 1ms/step\n",
      "Epoch 7/100\n",
      "2399/2399 - 3s - loss: 0.0926 - accuracy: 0.9614 - 3s/epoch - 1ms/step\n",
      "Epoch 8/100\n",
      "2399/2399 - 3s - loss: 0.0921 - accuracy: 0.9620 - 3s/epoch - 1ms/step\n",
      "Epoch 9/100\n",
      "2399/2399 - 3s - loss: 0.0880 - accuracy: 0.9632 - 3s/epoch - 1ms/step\n",
      "Epoch 10/100\n",
      "2399/2399 - 3s - loss: 0.0879 - accuracy: 0.9634 - 3s/epoch - 1ms/step\n",
      "Epoch 11/100\n",
      "2399/2399 - 3s - loss: 0.0823 - accuracy: 0.9667 - 3s/epoch - 1ms/step\n",
      "Epoch 12/100\n",
      "2399/2399 - 3s - loss: 0.0803 - accuracy: 0.9674 - 3s/epoch - 1ms/step\n",
      "Epoch 13/100\n",
      "2399/2399 - 3s - loss: 0.0824 - accuracy: 0.9668 - 3s/epoch - 1ms/step\n",
      "Epoch 14/100\n",
      "2399/2399 - 3s - loss: 0.0792 - accuracy: 0.9682 - 3s/epoch - 1ms/step\n",
      "Epoch 15/100\n",
      "2399/2399 - 3s - loss: 0.0779 - accuracy: 0.9694 - 3s/epoch - 1ms/step\n",
      "Epoch 16/100\n",
      "2399/2399 - 3s - loss: 0.0777 - accuracy: 0.9688 - 3s/epoch - 1ms/step\n",
      "Epoch 17/100\n",
      "2399/2399 - 3s - loss: 0.0773 - accuracy: 0.9692 - 3s/epoch - 1ms/step\n",
      "Epoch 18/100\n",
      "2399/2399 - 3s - loss: 0.0772 - accuracy: 0.9693 - 3s/epoch - 1ms/step\n",
      "Epoch 19/100\n",
      "2399/2399 - 3s - loss: 0.0778 - accuracy: 0.9691 - 3s/epoch - 1ms/step\n",
      "Epoch 20/100\n",
      "2399/2399 - 3s - loss: 0.0775 - accuracy: 0.9687 - 3s/epoch - 1ms/step\n",
      "Epoch 21/100\n",
      "2399/2399 - 3s - loss: 0.0774 - accuracy: 0.9693 - 3s/epoch - 1ms/step\n",
      "Epoch 22/100\n",
      "2399/2399 - 3s - loss: 0.0760 - accuracy: 0.9697 - 3s/epoch - 1ms/step\n",
      "Epoch 23/100\n",
      "2399/2399 - 3s - loss: 0.0768 - accuracy: 0.9695 - 3s/epoch - 1ms/step\n",
      "Epoch 24/100\n",
      "2399/2399 - 3s - loss: 0.0731 - accuracy: 0.9707 - 3s/epoch - 1ms/step\n",
      "Epoch 25/100\n",
      "2399/2399 - 3s - loss: 0.0754 - accuracy: 0.9693 - 3s/epoch - 1ms/step\n",
      "Epoch 26/100\n",
      "2399/2399 - 3s - loss: 0.0760 - accuracy: 0.9696 - 3s/epoch - 1ms/step\n",
      "Epoch 27/100\n",
      "2399/2399 - 3s - loss: 0.0740 - accuracy: 0.9703 - 3s/epoch - 1ms/step\n",
      "Epoch 28/100\n",
      "2399/2399 - 3s - loss: 0.0733 - accuracy: 0.9702 - 3s/epoch - 1ms/step\n",
      "Epoch 29/100\n",
      "2399/2399 - 3s - loss: 0.0741 - accuracy: 0.9703 - 3s/epoch - 1ms/step\n",
      "Epoch 30/100\n",
      "2399/2399 - 3s - loss: 0.0758 - accuracy: 0.9696 - 3s/epoch - 1ms/step\n",
      "Epoch 31/100\n",
      "2399/2399 - 3s - loss: 0.0745 - accuracy: 0.9697 - 3s/epoch - 1ms/step\n",
      "Epoch 32/100\n",
      "2399/2399 - 3s - loss: 0.0738 - accuracy: 0.9706 - 3s/epoch - 1ms/step\n",
      "Epoch 33/100\n",
      "2399/2399 - 3s - loss: 0.0723 - accuracy: 0.9710 - 3s/epoch - 1ms/step\n",
      "Epoch 34/100\n",
      "2399/2399 - 4s - loss: 0.0743 - accuracy: 0.9701 - 4s/epoch - 2ms/step\n",
      "Epoch 35/100\n",
      "2399/2399 - 3s - loss: 0.0746 - accuracy: 0.9700 - 3s/epoch - 1ms/step\n",
      "Epoch 36/100\n",
      "2399/2399 - 3s - loss: 0.0732 - accuracy: 0.9710 - 3s/epoch - 1ms/step\n",
      "Epoch 37/100\n",
      "2399/2399 - 3s - loss: 0.0719 - accuracy: 0.9709 - 3s/epoch - 1ms/step\n",
      "Epoch 38/100\n",
      "2399/2399 - 3s - loss: 0.0714 - accuracy: 0.9717 - 3s/epoch - 1ms/step\n",
      "Epoch 39/100\n",
      "2399/2399 - 3s - loss: 0.0729 - accuracy: 0.9710 - 3s/epoch - 1ms/step\n",
      "Epoch 40/100\n",
      "2399/2399 - 3s - loss: 0.0715 - accuracy: 0.9719 - 3s/epoch - 1ms/step\n",
      "Epoch 41/100\n",
      "2399/2399 - 3s - loss: 0.0705 - accuracy: 0.9716 - 3s/epoch - 1ms/step\n",
      "Epoch 42/100\n",
      "2399/2399 - 3s - loss: 0.0720 - accuracy: 0.9716 - 3s/epoch - 1ms/step\n",
      "Epoch 43/100\n",
      "2399/2399 - 3s - loss: 0.0736 - accuracy: 0.9708 - 3s/epoch - 1ms/step\n",
      "Epoch 44/100\n",
      "2399/2399 - 3s - loss: 0.0730 - accuracy: 0.9706 - 3s/epoch - 1ms/step\n",
      "Epoch 45/100\n",
      "2399/2399 - 3s - loss: 0.0719 - accuracy: 0.9711 - 3s/epoch - 1ms/step\n",
      "Epoch 46/100\n",
      "2399/2399 - 3s - loss: 0.0727 - accuracy: 0.9708 - 3s/epoch - 1ms/step\n",
      "Epoch 47/100\n",
      "2399/2399 - 3s - loss: 0.0718 - accuracy: 0.9709 - 3s/epoch - 1ms/step\n",
      "Epoch 48/100\n",
      "2399/2399 - 3s - loss: 0.0701 - accuracy: 0.9721 - 3s/epoch - 1ms/step\n",
      "Epoch 49/100\n",
      "2399/2399 - 3s - loss: 0.0720 - accuracy: 0.9708 - 3s/epoch - 1ms/step\n",
      "Epoch 50/100\n",
      "2399/2399 - 3s - loss: 0.0720 - accuracy: 0.9713 - 3s/epoch - 1ms/step\n",
      "Epoch 51/100\n",
      "2399/2399 - 2s - loss: 0.0720 - accuracy: 0.9711 - 2s/epoch - 968us/step\n",
      "Epoch 52/100\n",
      "2399/2399 - 3s - loss: 0.0710 - accuracy: 0.9716 - 3s/epoch - 1ms/step\n",
      "Epoch 53/100\n",
      "2399/2399 - 3s - loss: 0.0717 - accuracy: 0.9715 - 3s/epoch - 1ms/step\n",
      "Epoch 54/100\n",
      "2399/2399 - 2s - loss: 0.0731 - accuracy: 0.9699 - 2s/epoch - 993us/step\n",
      "Epoch 55/100\n",
      "2399/2399 - 3s - loss: 0.0731 - accuracy: 0.9704 - 3s/epoch - 1ms/step\n",
      "Epoch 56/100\n",
      "2399/2399 - 3s - loss: 0.0713 - accuracy: 0.9711 - 3s/epoch - 1ms/step\n",
      "Epoch 57/100\n",
      "2399/2399 - 3s - loss: 0.0705 - accuracy: 0.9721 - 3s/epoch - 1ms/step\n",
      "Epoch 58/100\n",
      "2399/2399 - 3s - loss: 0.0724 - accuracy: 0.9712 - 3s/epoch - 1ms/step\n",
      "Epoch 59/100\n",
      "2399/2399 - 3s - loss: 0.0699 - accuracy: 0.9717 - 3s/epoch - 1ms/step\n",
      "Epoch 60/100\n",
      "2399/2399 - 2s - loss: 0.0715 - accuracy: 0.9710 - 2s/epoch - 1ms/step\n",
      "Epoch 61/100\n",
      "2399/2399 - 3s - loss: 0.0705 - accuracy: 0.9714 - 3s/epoch - 1ms/step\n",
      "Epoch 62/100\n",
      "2399/2399 - 3s - loss: 0.0719 - accuracy: 0.9713 - 3s/epoch - 1ms/step\n",
      "Epoch 63/100\n",
      "2399/2399 - 3s - loss: 0.0710 - accuracy: 0.9710 - 3s/epoch - 1ms/step\n",
      "Epoch 64/100\n",
      "2399/2399 - 3s - loss: 0.0717 - accuracy: 0.9712 - 3s/epoch - 1ms/step\n",
      "Epoch 65/100\n",
      "2399/2399 - 3s - loss: 0.0707 - accuracy: 0.9715 - 3s/epoch - 1ms/step\n",
      "Epoch 66/100\n",
      "2399/2399 - 2s - loss: 0.0688 - accuracy: 0.9728 - 2s/epoch - 957us/step\n",
      "Epoch 67/100\n",
      "2399/2399 - 3s - loss: 0.0704 - accuracy: 0.9721 - 3s/epoch - 1ms/step\n",
      "Epoch 68/100\n",
      "2399/2399 - 2s - loss: 0.0707 - accuracy: 0.9715 - 2s/epoch - 993us/step\n",
      "Epoch 69/100\n",
      "2399/2399 - 2s - loss: 0.0688 - accuracy: 0.9723 - 2s/epoch - 1ms/step\n",
      "Epoch 70/100\n",
      "2399/2399 - 2s - loss: 0.0703 - accuracy: 0.9720 - 2s/epoch - 1ms/step\n",
      "Epoch 71/100\n",
      "2399/2399 - 2s - loss: 0.0702 - accuracy: 0.9720 - 2s/epoch - 1ms/step\n",
      "Epoch 72/100\n",
      "2399/2399 - 2s - loss: 0.0695 - accuracy: 0.9725 - 2s/epoch - 1ms/step\n",
      "Epoch 73/100\n",
      "2399/2399 - 3s - loss: 0.0700 - accuracy: 0.9717 - 3s/epoch - 1ms/step\n",
      "Epoch 74/100\n",
      "2399/2399 - 3s - loss: 0.0687 - accuracy: 0.9718 - 3s/epoch - 1ms/step\n",
      "Epoch 75/100\n",
      "2399/2399 - 3s - loss: 0.0695 - accuracy: 0.9722 - 3s/epoch - 1ms/step\n",
      "Epoch 76/100\n",
      "2399/2399 - 3s - loss: 0.0684 - accuracy: 0.9725 - 3s/epoch - 1ms/step\n",
      "Epoch 77/100\n",
      "2399/2399 - 3s - loss: 0.0710 - accuracy: 0.9714 - 3s/epoch - 1ms/step\n",
      "Epoch 78/100\n",
      "2399/2399 - 4s - loss: 0.0695 - accuracy: 0.9724 - 4s/epoch - 2ms/step\n",
      "Epoch 79/100\n",
      "2399/2399 - 4s - loss: 0.0697 - accuracy: 0.9722 - 4s/epoch - 1ms/step\n",
      "Epoch 80/100\n",
      "2399/2399 - 3s - loss: 0.0692 - accuracy: 0.9720 - 3s/epoch - 1ms/step\n",
      "Epoch 81/100\n",
      "2399/2399 - 3s - loss: 0.0697 - accuracy: 0.9719 - 3s/epoch - 1ms/step\n",
      "Epoch 82/100\n",
      "2399/2399 - 3s - loss: 0.0712 - accuracy: 0.9714 - 3s/epoch - 1ms/step\n",
      "Epoch 83/100\n",
      "2399/2399 - 3s - loss: 0.0695 - accuracy: 0.9725 - 3s/epoch - 1ms/step\n",
      "Epoch 84/100\n",
      "2399/2399 - 3s - loss: 0.0691 - accuracy: 0.9721 - 3s/epoch - 1ms/step\n",
      "Epoch 85/100\n",
      "2399/2399 - 3s - loss: 0.0692 - accuracy: 0.9723 - 3s/epoch - 1ms/step\n",
      "Epoch 86/100\n",
      "2399/2399 - 3s - loss: 0.0698 - accuracy: 0.9718 - 3s/epoch - 1ms/step\n",
      "Epoch 87/100\n",
      "2399/2399 - 3s - loss: 0.0687 - accuracy: 0.9722 - 3s/epoch - 1ms/step\n",
      "Epoch 88/100\n",
      "2399/2399 - 4s - loss: 0.0697 - accuracy: 0.9721 - 4s/epoch - 2ms/step\n",
      "Epoch 89/100\n",
      "2399/2399 - 3s - loss: 0.0689 - accuracy: 0.9722 - 3s/epoch - 1ms/step\n",
      "Epoch 90/100\n",
      "2399/2399 - 2s - loss: 0.0702 - accuracy: 0.9718 - 2s/epoch - 1ms/step\n",
      "Epoch 91/100\n",
      "2399/2399 - 3s - loss: 0.0678 - accuracy: 0.9725 - 3s/epoch - 1ms/step\n",
      "Epoch 92/100\n",
      "2399/2399 - 2s - loss: 0.0676 - accuracy: 0.9732 - 2s/epoch - 1ms/step\n",
      "Epoch 93/100\n",
      "2399/2399 - 2s - loss: 0.0695 - accuracy: 0.9718 - 2s/epoch - 993us/step\n",
      "Epoch 94/100\n",
      "2399/2399 - 3s - loss: 0.0685 - accuracy: 0.9727 - 3s/epoch - 1ms/step\n",
      "Epoch 95/100\n",
      "2399/2399 - 2s - loss: 0.0682 - accuracy: 0.9724 - 2s/epoch - 1ms/step\n",
      "Epoch 96/100\n",
      "2399/2399 - 3s - loss: 0.0694 - accuracy: 0.9724 - 3s/epoch - 1ms/step\n",
      "Epoch 97/100\n",
      "2399/2399 - 3s - loss: 0.0683 - accuracy: 0.9722 - 3s/epoch - 1ms/step\n",
      "Epoch 98/100\n",
      "2399/2399 - 3s - loss: 0.0697 - accuracy: 0.9720 - 3s/epoch - 1ms/step\n",
      "Epoch 99/100\n",
      "2399/2399 - 3s - loss: 0.0696 - accuracy: 0.9722 - 3s/epoch - 1ms/step\n",
      "Epoch 100/100\n",
      "2399/2399 - 3s - loss: 0.0697 - accuracy: 0.9722 - 3s/epoch - 1ms/step\n"
     ]
    }
   ],
   "source": [
    "history=modeld.fit(x=train,y=y_train,epochs=100,shuffle='True',verbose=2)"
   ]
  },
  {
   "cell_type": "code",
   "execution_count": 50,
   "metadata": {},
   "outputs": [
    {
     "name": "stdout",
     "output_type": "stream",
     "text": [
      "1919/1919 [==============================] - 3s 1ms/step - loss: 137.4353 - accuracy: 0.8878\n",
      "test loss, test acc: [137.43531799316406, 0.8877944350242615]\n"
     ]
    }
   ],
   "source": [
    "resultsd = modeld.evaluate(X_test, y_test, batch_size=10)\n",
    "print('test loss, test acc:', resultsd)"
   ]
  },
  {
   "cell_type": "code",
   "execution_count": null,
   "metadata": {},
   "outputs": [],
   "source": []
  },
  {
   "cell_type": "code",
   "execution_count": 51,
   "metadata": {},
   "outputs": [],
   "source": [
    "model.save(\"waethermodel.hdf5\")"
   ]
  },
  {
   "cell_type": "code",
   "execution_count": 52,
   "metadata": {},
   "outputs": [],
   "source": [
    "from keras.models import load_model\n",
    "lmodel = load_model(\"waethermodel.hdf5\")"
   ]
  },
  {
   "cell_type": "code",
   "execution_count": 53,
   "metadata": {},
   "outputs": [
    {
     "name": "stdout",
     "output_type": "stream",
     "text": [
      "[[-1.1502650e+00  1.5695211e+00  1.5065539e-01  1.8035961e+00\n",
      "  -1.6111553e+00 -4.2830345e-01 -1.0768350e+00  1.6014226e-01\n",
      "   1.4432625e+00 -1.5280188e+00 -9.5644988e-02 -8.6491656e-01\n",
      "   1.7803763e+00 -2.2803809e-01 -9.3855396e-02 -4.4982481e-01]\n",
      " [-4.7420695e-01  6.3501179e-01 -2.7272892e-01  5.1461917e-01\n",
      "  -9.9022615e-01 -5.3235656e-01 -1.1170597e+00 -6.7516220e-01\n",
      "   9.0652615e-01 -7.1562636e-01  2.9186934e-01  4.9326691e-01\n",
      "   8.7624729e-01  5.9201103e-01  2.6025677e-01 -4.5240483e-01]\n",
      " [ 3.2755412e-02 -8.1892900e-02 -1.5731516e-01  2.8305691e-01\n",
      "   3.9123986e-02 -7.0556313e-02  2.7627847e-01  1.6884094e-01\n",
      "   5.5265138e-03  3.2316378e-01  2.2589524e-01 -4.9534630e-02\n",
      "   1.3248317e-01 -6.7236058e-02  4.9180454e-01 -2.6259661e-02]\n",
      " [-4.9320972e-01  2.1632923e-01 -3.6820012e-01  1.5674973e-02\n",
      "  -2.2758472e-01  1.2514789e+00  1.1825705e-01 -6.8007749e-01\n",
      "   2.9052597e-01 -5.7787716e-02 -2.8563336e-01 -2.7613738e+00\n",
      "   1.1636602e-01 -3.0658412e-01  1.0036826e+00 -1.1428502e-01]\n",
      " [ 6.8377918e-01  2.4714150e-01 -4.9192426e-01  7.9821303e-02\n",
      "   1.8717366e-01  9.1315962e-02 -1.5369914e-01 -2.9882323e-02\n",
      "  -4.1883120e-01  5.4989266e-04  1.1322743e-01 -4.4781964e-02\n",
      "   1.9043013e-01  2.5559129e-02 -4.4658002e-01  7.9483688e-02]\n",
      " [ 5.9883823e-03  4.9109831e-01 -4.0695503e-01 -1.4026840e-01\n",
      "  -1.0853654e-01  3.2965943e-02  6.3721642e-02 -9.0258218e-02\n",
      "  -2.3750463e-01  8.6191021e-02 -1.0952396e-02  3.2513473e-02\n",
      "  -9.3568683e-02 -1.0344436e-01 -2.4647364e-01  1.8227798e-01]\n",
      " [-2.9218295e-01 -3.6887464e-01 -4.4398981e-01 -3.8873708e-01\n",
      "   4.8014235e-01 -5.9692651e-01  1.6879418e-01  2.1867894e-01\n",
      "   1.8462962e-01 -9.3237758e-02 -1.0549823e+00  1.2732684e-02\n",
      "  -3.8522503e-01 -8.6831105e-01 -4.7072548e-01 -4.5414132e-01]]\n",
      "7\n",
      "\n",
      "############################################################\n",
      "[[-4.35867488e-01 -2.43713528e-01 -2.58601099e-01 -3.45301896e-01\n",
      "   4.05396800e-03 -5.50535917e-01  2.24740297e-01 -5.59060156e-01\n",
      "   1.37122321e+00 -1.30424201e-01  4.29141730e-01 -3.33886109e-02\n",
      "  -3.91878694e-01  5.47307968e-01 -7.27454007e-01 -1.41631886e-01\n",
      "  -1.30382404e-01 -6.07217729e-01  1.29073560e-01  1.01748729e+00\n",
      "   8.45450535e-02 -2.20355675e-01  3.77664238e-01  3.14598680e-01\n",
      "  -2.69146830e-01  3.86332124e-01  3.33900183e-01  8.29339251e-02\n",
      "   2.57350504e-01 -7.59471431e-02 -2.12826863e-01 -2.05798313e-01]\n",
      " [-3.80341232e-01 -2.71559000e-01 -2.08623290e-01  5.83875597e-01\n",
      "  -3.89744550e-01 -2.36623317e-01 -1.01155043e-01 -2.07016826e-01\n",
      "  -2.30852198e-02  4.02441882e-02 -4.96062785e-02  6.60681069e-01\n",
      "   5.55103779e-01  3.23348105e-01  9.63831902e-01  6.46758437e-01\n",
      "   5.63835740e-01  7.43208468e-01 -4.89666276e-02 -4.60710496e-01\n",
      "  -6.55134797e-01  7.29206979e-01 -3.77524465e-01 -3.43251169e-01\n",
      "   1.00719070e+00 -4.56389606e-01 -7.03192711e-01 -4.56772804e-01\n",
      "  -3.18117231e-01  7.91560531e-01 -2.99171269e-01 -1.52412623e-01]\n",
      " [ 3.23469728e-01 -9.36081409e-02  2.81665772e-01 -2.16820076e-01\n",
      "  -6.82389736e-03  3.26641113e-01 -9.18418467e-02  3.31916124e-01\n",
      "  -8.89116526e-02 -3.49714071e-01  3.15810710e-01 -7.29877949e-02\n",
      "   2.07554668e-01  2.57329613e-01  3.35117429e-01 -2.00727567e-01\n",
      "  -3.18961203e-01 -2.66996652e-01 -1.49000883e-02  4.50440943e-02\n",
      "  -3.25057983e-01  3.17149371e-01 -1.98568642e-01 -2.86094487e-01\n",
      "   5.41746616e-03  7.48519599e-02  8.89754593e-02 -1.00506067e-01\n",
      "  -3.15517873e-01 -6.71346188e-02 -3.15417230e-01  1.45262301e-01]\n",
      " [-9.44618046e-01 -7.62330055e-01 -7.96337545e-01  5.21826267e-01\n",
      "  -9.34605479e-01 -7.18050241e-01 -6.85685277e-02  1.27158427e+00\n",
      "  -1.89786226e-01 -9.93167758e-02  3.89313877e-01  9.62656021e-01\n",
      "   9.74391520e-01  4.04904366e-01  8.15160811e-01  8.12902808e-01\n",
      "   7.22330809e-01  6.20350718e-01 -3.25521499e-01 -5.03662169e-01\n",
      "  -6.47175610e-01  9.68004704e-01 -8.17637324e-01 -3.37732673e-01\n",
      "   7.01560259e-01 -5.12403369e-01 -1.02866805e+00 -9.59736824e-01\n",
      "  -7.97051191e-01  9.38823640e-01 -3.72735322e-01 -5.23750365e-01]\n",
      " [ 1.51909900e+00  1.10619545e+00  6.41148269e-01 -2.59849221e-01\n",
      "   1.20336068e+00  9.64581013e-01 -2.84615040e-01  9.78238881e-02\n",
      "  -2.28587151e+00 -3.23631346e-01 -5.22995758e+00 -1.22408116e+00\n",
      "  -9.32486296e-01 -1.37382841e+00 -5.37810087e-01 -7.54715443e-01\n",
      "  -1.05633986e+00 -1.06732237e+00 -3.17103863e-01  4.42408472e-01\n",
      "   1.02859151e+00 -8.06888819e-01  1.07167518e+00 -4.04786542e-02\n",
      "  -1.01731515e+00  1.04597473e+00  1.07859790e+00  1.48098874e+00\n",
      "   9.76036012e-01 -9.41572428e-01  2.38474742e-01  1.58946179e-02]\n",
      " [-1.27110571e-01  7.54455999e-02  1.73863024e-01 -3.02167565e-01\n",
      "  -1.35231987e-01 -1.55984592e-02 -2.94910848e-01  1.32754162e-01\n",
      "   2.39046693e-01 -4.31958400e-02  5.28169751e-01 -7.84629881e-01\n",
      "  -3.01030248e-01  9.61248949e-02 -5.47322869e-01 -3.92244458e-01\n",
      "   5.87858781e-02 -3.99612695e-01 -3.10549170e-01 -1.53497607e-01\n",
      "   4.69737977e-01 -1.15364492e-01  3.73126268e-01 -2.23734960e-01\n",
      "   6.00757226e-02  3.64395440e-01  4.44579214e-01 -1.09623164e-01\n",
      "   3.46849337e-02 -4.82699871e-01  2.73056507e-01  2.35265717e-01]\n",
      " [ 4.65409249e-01 -1.64213300e-01  1.38778791e-01  2.81206369e-01\n",
      "   4.42998737e-01 -4.91953734e-03 -2.97578394e-01 -4.44373727e-01\n",
      "  -4.10544187e-01 -2.79457182e-01 -8.93849254e-01  2.80858546e-01\n",
      "  -2.22734898e-01  1.20894544e-01  9.95554850e-02  9.90922078e-02\n",
      "   2.68182963e-01  1.09802755e-02 -3.53923470e-01  2.40315661e-01\n",
      "  -1.94547758e-01  1.70154765e-01 -1.34652868e-01 -2.33071521e-01\n",
      "  -2.53634565e-02  2.41447583e-01 -1.19340971e-01  2.51599312e-01\n",
      "  -2.69725104e-03  3.36178929e-01  4.91452478e-02 -5.11189699e-01]\n",
      " [ 2.10766390e-01  2.38141447e-01 -1.77401081e-01 -2.89191809e-02\n",
      "  -1.98161751e-01  2.39267111e-01 -1.77570492e-01  3.17322224e-01\n",
      "  -2.73226529e-01 -1.28608271e-01  2.50707030e-01 -1.07356474e-01\n",
      "  -8.67917687e-02  3.45995814e-01  3.32035929e-01 -5.32650612e-02\n",
      "   9.37372148e-02  5.33940606e-02  1.74026877e-01 -5.25001764e-01\n",
      "   2.20989659e-02  2.44751051e-01  7.38198012e-02 -4.01219875e-02\n",
      "  -4.94134687e-02 -1.48393005e-01 -1.08469814e-01  2.02628165e-01\n",
      "   4.93935719e-02  3.86707895e-02 -2.70048290e-01 -1.23337612e-01]\n",
      " [-2.86242038e-01 -2.42068425e-01 -4.83006209e-01  3.65981460e-01\n",
      "  -8.58680159e-02 -3.89097333e-01 -1.78267419e-01 -1.12843230e-01\n",
      "  -3.21280360e+00 -4.37408239e-02 -1.33798921e+00  5.99053442e-01\n",
      "   5.63729107e-01  8.25509191e-01  3.44747216e-01  6.56786680e-01\n",
      "   5.23230672e-01  3.53663057e-01 -1.54302850e-01 -1.71665430e+00\n",
      "  -2.59566247e-01  6.15004838e-01 -4.38835740e-01  1.04031622e-01\n",
      "   5.51547408e-01 -2.90875375e-01 -2.47886762e-01 -1.70823753e-01\n",
      "  -1.72435775e-01  5.38801908e-01 -1.07106186e-01 -7.08396375e-01]\n",
      " [ 8.16274881e-01  1.31088972e+00  1.10853374e+00 -7.01097131e-01\n",
      "   5.52614510e-01  1.32184434e+00  4.33229208e-02 -8.76819313e-01\n",
      "  -2.13194504e-01  1.01984508e-01  4.90822196e-01 -1.06685710e+00\n",
      "  -8.62646699e-01 -1.00434411e+00 -1.56109214e-01 -8.54289174e-01\n",
      "  -1.07373500e+00 -7.25202739e-01 -3.77253890e-01 -2.14523867e-01\n",
      "   1.13885725e+00 -9.02782321e-01  1.18568134e+00 -4.99594994e-02\n",
      "  -8.85534823e-01  9.22675371e-01  1.16181946e+00  1.03956938e+00\n",
      "   1.12868941e+00 -1.30712700e+00 -3.14463466e-01  1.00035608e-01]\n",
      " [-1.67146802e+00  8.75960469e-01  5.89107156e-01 -3.19703728e-01\n",
      "  -1.43334115e+00  6.57235682e-01 -3.85900736e-02 -5.23842812e-01\n",
      "   1.85937062e-01  1.85639481e-03  8.56246710e-01 -3.03757191e-01\n",
      "  -5.32563567e-01 -5.31988800e-01 -3.90291333e-01 -4.63418305e-01\n",
      "  -5.50999284e-01 -6.33084774e-01  1.79227531e-01  4.83910084e-01\n",
      "   6.23474002e-01 -2.84357697e-01  8.69521797e-01 -9.93472189e-02\n",
      "  -6.65542126e-01  9.15164471e-01  8.26477945e-01 -1.22117436e+00\n",
      "   4.79747921e-01 -4.22923386e-01  6.08444214e-04  3.73336703e-01]\n",
      " [ 2.83440322e-01  3.58375371e-01  2.05478027e-01  5.57959713e-02\n",
      "   1.12610690e-01  3.04113984e-01  3.72038782e-02 -1.01756966e+00\n",
      "  -2.25073397e-01  1.97802484e-01  4.46454197e-01  5.10511920e-02\n",
      "  -2.54934400e-01  2.60299504e-01 -3.65135765e+00 -1.78376287e-01\n",
      "   9.59146768e-02 -2.82970607e-01  2.60221094e-01 -2.76031345e-01\n",
      "   2.23936304e-01 -1.42260209e-01  1.89064756e-01  1.23739146e-01\n",
      "  -1.19676143e-01  1.70226067e-01  3.63574177e-01  8.39148313e-02\n",
      "   4.45498616e-01 -1.37631103e-01 -9.78937298e-02 -2.44162902e-01]\n",
      " [-9.82926846e-01 -7.91531086e-01 -5.05279183e-01  9.37756538e-01\n",
      "  -9.58593190e-01 -7.95969963e-01 -1.70784429e-01  1.41830206e+00\n",
      "  -6.07298426e-02 -1.47456914e-01  3.43232185e-01  1.07669020e+00\n",
      "   1.31563950e+00  3.27630252e-01  1.32677925e+00  1.27330434e+00\n",
      "   1.11768663e+00  8.48693550e-01 -1.41806334e-01 -1.23679571e-01\n",
      "  -5.14830112e-01  7.00226426e-01 -7.91541338e-01 -5.49654178e-02\n",
      "   8.09793890e-01 -8.84804726e-01 -5.89980364e-01 -8.46922457e-01\n",
      "  -1.01649928e+00  1.20302355e+00 -2.88112402e-01 -9.18385312e-02]\n",
      " [-8.79127264e-01  5.43247648e-02  3.40960652e-01 -3.10489148e-01\n",
      "  -5.53005219e-01  5.83010428e-02 -4.59594429e-02 -2.07006317e-02\n",
      "   4.83546928e-02 -9.84946862e-02  1.36243612e-01 -4.57515270e-01\n",
      "  -7.72341609e-01  1.34556785e-01 -2.98837274e-01 -7.01413751e-01\n",
      "  -5.73944032e-01  1.81389630e-01  1.80507958e-01  4.96876657e-01\n",
      "   4.07907158e-01 -3.23765308e-01  2.95759141e-01  6.90773427e-02\n",
      "  -3.61784816e-01  5.44694722e-01  4.04974401e-01 -5.40727139e-01\n",
      "   4.40305293e-01 -2.51082003e-01 -8.11112821e-02 -5.08905873e-02]\n",
      " [-4.03384298e-01  5.60926855e-01  3.46711397e-01 -3.73699516e-02\n",
      "  -3.81516606e-01  1.12332535e+00 -2.61025637e-01  1.14227064e-01\n",
      "  -1.19030440e+00  6.97393566e-02 -3.52058783e-02 -7.82901868e-02\n",
      "   1.35540873e-01 -8.99302959e-03  4.52224202e-02  1.86993424e-02\n",
      "  -3.74584377e-01  1.78049028e-01 -2.57625073e-01 -1.12456870e+00\n",
      "   4.82312255e-02 -2.43512969e-02  3.71167362e-01 -2.57225364e-01\n",
      "  -4.92585078e-02  1.24852456e-01  4.81986076e-01 -3.78256798e-01\n",
      "   2.96089649e-01  4.70100567e-02 -4.41569149e-01 -5.23906589e-01]\n",
      " [ 3.26184839e-01  2.97369272e-01  2.25288063e-01  1.21680886e-01\n",
      "   1.90826088e-01 -6.99542463e-02  2.29927897e-03  3.28708500e-01\n",
      "   3.32426101e-01  1.25796974e-01  2.97489673e-01 -1.07879937e-02\n",
      "   1.47626251e-01  5.92616796e-02  3.12669903e-01 -2.44580433e-01\n",
      "  -9.11703706e-02 -3.25875223e-01 -1.44647896e-01 -2.56442487e-01\n",
      "  -2.32094437e-01 -1.15409106e-01  2.20633835e-01 -3.08614492e-01\n",
      "   1.28944904e-01  2.10474461e-01  1.41375452e-01  5.34446537e-02\n",
      "   1.69169515e-01  2.43255496e-02 -6.01866245e-02  2.78886527e-01]]\n"
     ]
    },
    {
     "data": {
      "text/plain": [
       "16"
      ]
     },
     "execution_count": 53,
     "metadata": {},
     "output_type": "execute_result"
    }
   ],
   "source": [
    "Input_hidden_weights = model.layers[0].get_weights()[0]\n",
    "Hidden_output_weights = model.layers[1].get_weights()[0]\n",
    "print(Input_hidden_weights)\n",
    "print(len(Input_hidden_weights))\n",
    "print(\"\\n############################################################\")\n",
    "print(Hidden_output_weights)\n",
    "len(Hidden_output_weights)"
   ]
  },
  {
   "cell_type": "code",
   "execution_count": null,
   "metadata": {},
   "outputs": [],
   "source": []
  }
 ],
 "metadata": {
  "kernelspec": {
   "display_name": "Python 3",
   "language": "python",
   "name": "python3"
  },
  "language_info": {
   "codemirror_mode": {
    "name": "ipython",
    "version": 3
   },
   "file_extension": ".py",
   "mimetype": "text/x-python",
   "name": "python",
   "nbconvert_exporter": "python",
   "pygments_lexer": "ipython3",
   "version": "3.10.7"
  }
 },
 "nbformat": 4,
 "nbformat_minor": 2
}
